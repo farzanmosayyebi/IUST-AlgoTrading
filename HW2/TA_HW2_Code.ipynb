{
  "cells": [
    {
      "cell_type": "code",
      "execution_count": 4,
      "metadata": {
        "colab": {
          "base_uri": "https://localhost:8080/"
        },
        "id": "wq9RZ8yyqmTO",
        "outputId": "f8e00efe-66b1-461f-f272-7e9bd2f2e20f"
      },
      "outputs": [
        {
          "output_type": "stream",
          "name": "stdout",
          "text": [
            "Requirement already satisfied: ta in /usr/local/lib/python3.10/dist-packages (0.11.0)\n",
            "Requirement already satisfied: numpy in /usr/local/lib/python3.10/dist-packages (from ta) (1.26.4)\n",
            "Requirement already satisfied: pandas in /usr/local/lib/python3.10/dist-packages (from ta) (2.2.2)\n",
            "Requirement already satisfied: python-dateutil>=2.8.2 in /usr/local/lib/python3.10/dist-packages (from pandas->ta) (2.8.2)\n",
            "Requirement already satisfied: pytz>=2020.1 in /usr/local/lib/python3.10/dist-packages (from pandas->ta) (2024.2)\n",
            "Requirement already satisfied: tzdata>=2022.7 in /usr/local/lib/python3.10/dist-packages (from pandas->ta) (2024.2)\n",
            "Requirement already satisfied: six>=1.5 in /usr/local/lib/python3.10/dist-packages (from python-dateutil>=2.8.2->pandas->ta) (1.16.0)\n"
          ]
        }
      ],
      "source": [
        "!pip install ta"
      ]
    },
    {
      "cell_type": "code",
      "execution_count": 5,
      "metadata": {
        "id": "4-krm9wxmcsa"
      },
      "outputs": [],
      "source": [
        "import pandas as pd\n",
        "import ta\n",
        "import yfinance as yf\n",
        "from datetime import datetime, timedelta\n",
        "import matplotlib.pyplot as plt"
      ]
    },
    {
      "cell_type": "code",
      "execution_count": 6,
      "metadata": {
        "id": "7r__hZ2zWWRO"
      },
      "outputs": [],
      "source": [
        "def get_asset_history(ticker_symbol, start_date, end_date, interval):\n",
        "  ticker_data = yf.Ticker(ticker_symbol)\n",
        "  ticker_df = ticker_data.history(interval = interval, start = start_date, end = end_date)\n",
        "\n",
        "  return ticker_df.Close"
      ]
    },
    {
      "cell_type": "markdown",
      "metadata": {
        "id": "-AzzaBppqBJH"
      },
      "source": [
        "# Backtesting function\n",
        "\n"
      ]
    },
    {
      "cell_type": "code",
      "execution_count": 7,
      "metadata": {
        "id": "QO3acRIGt15W"
      },
      "outputs": [],
      "source": [
        "def backtest(close_prices, initial_capital):\n",
        "  price_data_df = close_prices.to_frame()\n",
        "\n",
        "  price_data_df[\"MACD\"] = ta.trend.macd(close_prices, window_slow = 26, window_fast = 12)\n",
        "  price_data_df[\"MACD_Signal\"] = ta.trend.macd_signal(close_prices, window_slow = 26, window_fast = 12)\n",
        "  price_data_df[\"RSI\"] = ta.momentum.rsi(close_prices, 14)\n",
        "\n",
        "  price_data_df[\"Buy_Signal\"] = False\n",
        "  price_data_df[\"Sell_Signal\"] = False\n",
        "  in_position = False\n",
        "  price_data_df[\"Position\"] = None\n",
        "  price_data_df.loc[price_data_df.index[0], \"Position\"] = 0\n",
        "\n",
        "  for date in range(0, len(price_data_df)):\n",
        "    datestr = price_data_df.index[date].strftime(\"%Y-%m-%d\")\n",
        "    yesterdaystr = price_data_df.index[date - 1].strftime(\"%Y-%m-%d\")\n",
        "\n",
        "    if ((price_data_df.loc[datestr, \"MACD\"] > price_data_df.loc[datestr, \"MACD_Signal\"]) \\\n",
        "        or (price_data_df.loc[yesterdaystr, \"MACD\"] <= price_data_df.loc[yesterdaystr, \"MACD_Signal\"])) \\\n",
        "        and (price_data_df.loc[datestr, \"RSI\"] > 48) \\\n",
        "        and not in_position:\n",
        "\n",
        "        price_data_df.loc[datestr, \"Buy_Signal\"] = True\n",
        "        price_data_df.loc[datestr, \"Position\"] = 1\n",
        "        in_position = True\n",
        "\n",
        "    elif (price_data_df.loc[datestr, \"MACD\"] < price_data_df.loc[datestr, \"MACD_Signal\"]) \\\n",
        "        and (price_data_df.loc[yesterdaystr, \"MACD\"] >= price_data_df.loc[yesterdaystr, \"MACD_Signal\"]) \\\n",
        "        and in_position:\n",
        "\n",
        "        price_data_df.loc[datestr, \"Sell_Signal\"] = True\n",
        "        price_data_df.loc[datestr, \"Position\"] = 0\n",
        "        in_position = False\n",
        "\n",
        "  price_data_df[\"Position\"] = price_data_df[\"Position\"].ffill().fillna(0)\n",
        "  price_data_df[\"Portfolio_Value\"] = initial_capital\n",
        "  price_data_df['Strategy_Return'] = price_data_df['Close'].pct_change() * price_data_df[\"Position\"].shift(1)\n",
        "  price_data_df['Portfolio_Value'] = (price_data_df['Strategy_Return'] + 1).cumprod()  * price_data_df[\"Portfolio_Value\"].shift(1)\n",
        "  price_data_df.loc[price_data_df.index[0], 'Portfolio_Value'] = initial_capital\n",
        "\n",
        "  return price_data_df[\"Portfolio_Value\"]"
      ]
    },
    {
      "cell_type": "markdown",
      "metadata": {
        "id": "qsVbEeNAqIIg"
      },
      "source": [
        "# Strategy evaluation metrics\n"
      ]
    },
    {
      "cell_type": "code",
      "execution_count": 8,
      "metadata": {
        "id": "HUdTnYgUNeso"
      },
      "outputs": [],
      "source": [
        "def net_profit(portfolio_values):\n",
        "  final_value = portfolio_values[-1]\n",
        "  initial_value = portfolio_values[0]\n",
        "\n",
        "  total_revenue = final_value - initial_value\n",
        "  total_expenses = 0\n",
        "\n",
        "  net_profit = total_revenue - total_expenses\n",
        "\n",
        "  return net_profit\n",
        "\n"
      ]
    },
    {
      "cell_type": "code",
      "execution_count": 9,
      "metadata": {
        "id": "_Z237Gu4O7rU"
      },
      "outputs": [],
      "source": [
        "def max_drawdown(portfolio_values):\n",
        "  values = pd.DataFrame(data = portfolio_values.cummax())\n",
        "  values.columns = [\"Cumulative_Max\"]\n",
        "\n",
        "  values['Drawdown'] = (portfolio_values - values['Cumulative_Max']) / values['Cumulative_Max']\n",
        "  max_drawdown = values['Drawdown'].min()\n",
        "\n",
        "  return max_drawdown"
      ]
    },
    {
      "cell_type": "code",
      "execution_count": 28,
      "metadata": {
        "id": "Fbc3cVG1SlrS"
      },
      "outputs": [],
      "source": [
        "def drawdown_period(portfolio_values):\n",
        "  values = pd.DataFrame(data = portfolio_values.cummax())\n",
        "  values.columns = [\"Cumulative_Max\"]\n",
        "\n",
        "  values['Drawdown'] = (portfolio_values - values['Cumulative_Max']) / values['Cumulative_Max']\n",
        "\n",
        "  min_date = values['Drawdown'].idxmin()\n",
        "\n",
        "  start_date = values.loc[:min_date, 'Cumulative_Max'].idxmax()\n",
        "  after_min = values.loc[min_date:, 'Cumulative_Max']\n",
        "  end_date = after_min[after_min == values.loc[start_date, \"Cumulative_Max\"]].index[0]\n",
        "\n",
        "  drawdown_period = (end_date - start_date).days\n",
        "\n",
        "  return drawdown_period"
      ]
    },
    {
      "cell_type": "code",
      "execution_count": 11,
      "metadata": {
        "id": "oXb8RldRr6bH"
      },
      "outputs": [],
      "source": [
        "import math"
      ]
    },
    {
      "cell_type": "code",
      "execution_count": 12,
      "metadata": {
        "id": "H6jR7MtrS2QY"
      },
      "outputs": [],
      "source": [
        "def sharpe(portfolio_values, annual_interest_rate = 0.04):\n",
        "  values = pd.DataFrame(data = portfolio_values.pct_change())\n",
        "  values.columns = [\"Daily_Return\"]\n",
        "\n",
        "  daily_risk_free_rate = (1 + annual_interest_rate) ** (1 / 365) - 1\n",
        "  excess_daily_returns = values[\"Daily_Return\"] - daily_risk_free_rate\n",
        "\n",
        "  avg_excess_daily_return = values[\"Daily_Return\"].mean()\n",
        "  std_excess_daily_return = values[\"Daily_Return\"].std()\n",
        "\n",
        "  trading_days_per_year = 365\n",
        "  annual_return = (1 + avg_excess_daily_return) ** trading_days_per_year - 1\n",
        "  annual_std = std_excess_daily_return * math.sqrt(trading_days_per_year)\n",
        "\n",
        "  sharpe_ratio = (annual_return) / annual_std\n",
        "\n",
        "  return sharpe_ratio\n"
      ]
    },
    {
      "cell_type": "code",
      "execution_count": 13,
      "metadata": {
        "id": "BT8IE8pdS6x8"
      },
      "outputs": [],
      "source": [
        "def sortino(portfolio_values, annual_interest_rate = 0.04):\n",
        "  values = portfolio_values.pct_change()\n",
        "  values.columns = [\"Daily_Return\"]\n",
        "\n",
        "  daily_risk_free_rate = (1 + annual_interest_rate) ** (1 / 365) - 1\n",
        "  excess_daily_returns = values - daily_risk_free_rate\n",
        "\n",
        "  avg_excess_daily_return = excess_daily_returns.mean()\n",
        "\n",
        "  downside_returns = excess_daily_returns[excess_daily_returns < 0]\n",
        "  downside_deviation = downside_returns.std()\n",
        "\n",
        "  trading_days_per_year = 365\n",
        "  annual_return = (1 + avg_excess_daily_return) ** trading_days_per_year - 1\n",
        "  annual_downside_deviation = downside_deviation * math.sqrt(trading_days_per_year)\n",
        "\n",
        "  sortino_ratio = (annual_return - annual_interest_rate) / annual_downside_deviation\n",
        "  return sortino_ratio\n"
      ]
    },
    {
      "cell_type": "markdown",
      "metadata": {
        "id": "eCktXa6CqL2b"
      },
      "source": [
        "# Perform backtest for every asset"
      ]
    },
    {
      "cell_type": "code",
      "execution_count": 14,
      "metadata": {
        "id": "l9iEvUFzY3Nm"
      },
      "outputs": [],
      "source": [
        "def evaluate(symbol_name, portfolio_values):\n",
        "  net_profit_value = net_profit(portfolio_values)\n",
        "  max_drawdown_value = max_drawdown(portfolio_values)\n",
        "  drawdown_period_value = drawdown_period(portfolio_values)\n",
        "  sharpe_ratio = sharpe(portfolio_values)\n",
        "  sortino_ratio = sortino(portfolio_values)\n",
        "\n",
        "  print(f\"for {symbol_name}:\")\n",
        "  print(\"- - - - - - - - - - - - - - - - - - - - - -\")\n",
        "  print(f\"Net Profit: {net_profit_value}\")\n",
        "  print(f\"Maximum Drawdown: {max_drawdown_value}\")\n",
        "  print(f\"Drawdown Period: {drawdown_period_value}\")\n",
        "  print(f\"Sharpe Ratio: {sharpe_ratio}\")\n",
        "  print(f\"Sortino Ratio: {sortino_ratio}\")\n",
        "  print(\"===========================================\\n\")"
      ]
    },
    {
      "cell_type": "code",
      "execution_count": 15,
      "metadata": {
        "id": "nItbgNppYy7I"
      },
      "outputs": [],
      "source": [
        "ticker_symbols = {\n",
        "    \"btc\": \"BTC-USD\",\n",
        "    \"eth\": \"ETH-USD\",\n",
        "    \"doge\": \"DOGE-USD\",\n",
        "}\n",
        "start_date = \"2022-10-01\"\n",
        "end_date = \"2024-10-01\"\n",
        "interval = \"1d\"\n",
        "initial_capital = 100"
      ]
    },
    {
      "cell_type": "code",
      "execution_count": 16,
      "metadata": {
        "id": "U7HYg2HVs2XN"
      },
      "outputs": [],
      "source": [
        "btc_data = get_asset_history(ticker_symbols[\"btc\"], start_date, end_date, interval)"
      ]
    },
    {
      "cell_type": "code",
      "execution_count": 17,
      "metadata": {
        "colab": {
          "base_uri": "https://localhost:8080/"
        },
        "id": "_S9isKdvbUqj",
        "outputId": "b88bf250-9f0d-423f-b3a5-083fadea6f26"
      },
      "outputs": [
        {
          "output_type": "stream",
          "name": "stderr",
          "text": [
            "<ipython-input-7-bc5569e8cfcd>:35: FutureWarning: Downcasting object dtype arrays on .fillna, .ffill, .bfill is deprecated and will change in a future version. Call result.infer_objects(copy=False) instead. To opt-in to the future behavior, set `pd.set_option('future.no_silent_downcasting', True)`\n",
            "  price_data_df[\"Position\"] = price_data_df[\"Position\"].ffill().fillna(0)\n"
          ]
        }
      ],
      "source": [
        "btc_return = backtest(btc_data, initial_capital)"
      ]
    },
    {
      "cell_type": "code",
      "execution_count": 18,
      "metadata": {
        "id": "ek7quoVAYgQi"
      },
      "outputs": [],
      "source": [
        "eth_data = get_asset_history(ticker_symbols[\"eth\"], start_date, end_date, interval)"
      ]
    },
    {
      "cell_type": "code",
      "execution_count": 19,
      "metadata": {
        "colab": {
          "base_uri": "https://localhost:8080/"
        },
        "id": "8OZrGAuMbX_6",
        "outputId": "752de341-ed98-4692-8382-165c5916c5c4"
      },
      "outputs": [
        {
          "output_type": "stream",
          "name": "stderr",
          "text": [
            "<ipython-input-7-bc5569e8cfcd>:35: FutureWarning: Downcasting object dtype arrays on .fillna, .ffill, .bfill is deprecated and will change in a future version. Call result.infer_objects(copy=False) instead. To opt-in to the future behavior, set `pd.set_option('future.no_silent_downcasting', True)`\n",
            "  price_data_df[\"Position\"] = price_data_df[\"Position\"].ffill().fillna(0)\n"
          ]
        }
      ],
      "source": [
        "eth_return = backtest(eth_data, initial_capital)"
      ]
    },
    {
      "cell_type": "code",
      "execution_count": 20,
      "metadata": {
        "id": "mJsCeihTYmsj"
      },
      "outputs": [],
      "source": [
        "doge_data = get_asset_history(ticker_symbols[\"doge\"], start_date, end_date, interval)"
      ]
    },
    {
      "cell_type": "code",
      "execution_count": 21,
      "metadata": {
        "colab": {
          "base_uri": "https://localhost:8080/"
        },
        "id": "jiyBo4rabe_q",
        "outputId": "561f9014-302d-4534-ac70-bae63aabca31"
      },
      "outputs": [
        {
          "output_type": "stream",
          "name": "stderr",
          "text": [
            "<ipython-input-7-bc5569e8cfcd>:35: FutureWarning: Downcasting object dtype arrays on .fillna, .ffill, .bfill is deprecated and will change in a future version. Call result.infer_objects(copy=False) instead. To opt-in to the future behavior, set `pd.set_option('future.no_silent_downcasting', True)`\n",
            "  price_data_df[\"Position\"] = price_data_df[\"Position\"].ffill().fillna(0)\n"
          ]
        }
      ],
      "source": [
        "doge_return = backtest(doge_data, initial_capital)"
      ]
    },
    {
      "cell_type": "markdown",
      "metadata": {
        "id": "p1SoQA4nqniU"
      },
      "source": [
        "# Evaluate the results"
      ]
    },
    {
      "cell_type": "code",
      "execution_count": 29,
      "metadata": {
        "colab": {
          "base_uri": "https://localhost:8080/"
        },
        "id": "s-gexJcfbngb",
        "outputId": "e4834e00-cf64-498f-91d9-8dfd7bb1375e"
      },
      "outputs": [
        {
          "output_type": "stream",
          "name": "stdout",
          "text": [
            "for BTC-USD:\n",
            "- - - - - - - - - - - - - - - - - - - - - -\n",
            "Net Profit: 169.32782006906143\n",
            "Maximum Drawdown: -0.3204312707600197\n",
            "Drawdown Period: 145\n",
            "Sharpe Ratio: 1.8087528012323477\n",
            "Sortino Ratio: 2.3938834450720656\n",
            "===========================================\n",
            "\n",
            "for ETH-USD:\n",
            "- - - - - - - - - - - - - - - - - - - - - -\n",
            "Net Profit: 62.15003350885527\n",
            "Maximum Drawdown: -0.4209962878698351\n",
            "Drawdown Period: 149\n",
            "Sharpe Ratio: 0.879063211233554\n",
            "Sortino Ratio: 0.9926060897204514\n",
            "===========================================\n",
            "\n",
            "for DOGE-USD:\n",
            "- - - - - - - - - - - - - - - - - - - - - -\n",
            "Net Profit: -36.54510038458629\n",
            "Maximum Drawdown: -0.6351003456668745\n",
            "Drawdown Period: 169\n",
            "Sharpe Ratio: 0.0585596260864178\n",
            "Sortino Ratio: -0.07377950796220736\n",
            "===========================================\n",
            "\n"
          ]
        },
        {
          "output_type": "stream",
          "name": "stderr",
          "text": [
            "<ipython-input-8-1a589a4a07df>:2: FutureWarning: Series.__getitem__ treating keys as positions is deprecated. In a future version, integer keys will always be treated as labels (consistent with DataFrame behavior). To access a value by position, use `ser.iloc[pos]`\n",
            "  final_value = portfolio_values[-1]\n",
            "<ipython-input-8-1a589a4a07df>:3: FutureWarning: Series.__getitem__ treating keys as positions is deprecated. In a future version, integer keys will always be treated as labels (consistent with DataFrame behavior). To access a value by position, use `ser.iloc[pos]`\n",
            "  initial_value = portfolio_values[0]\n",
            "<ipython-input-8-1a589a4a07df>:2: FutureWarning: Series.__getitem__ treating keys as positions is deprecated. In a future version, integer keys will always be treated as labels (consistent with DataFrame behavior). To access a value by position, use `ser.iloc[pos]`\n",
            "  final_value = portfolio_values[-1]\n",
            "<ipython-input-8-1a589a4a07df>:3: FutureWarning: Series.__getitem__ treating keys as positions is deprecated. In a future version, integer keys will always be treated as labels (consistent with DataFrame behavior). To access a value by position, use `ser.iloc[pos]`\n",
            "  initial_value = portfolio_values[0]\n",
            "<ipython-input-8-1a589a4a07df>:2: FutureWarning: Series.__getitem__ treating keys as positions is deprecated. In a future version, integer keys will always be treated as labels (consistent with DataFrame behavior). To access a value by position, use `ser.iloc[pos]`\n",
            "  final_value = portfolio_values[-1]\n",
            "<ipython-input-8-1a589a4a07df>:3: FutureWarning: Series.__getitem__ treating keys as positions is deprecated. In a future version, integer keys will always be treated as labels (consistent with DataFrame behavior). To access a value by position, use `ser.iloc[pos]`\n",
            "  initial_value = portfolio_values[0]\n"
          ]
        }
      ],
      "source": [
        "evaluate(ticker_symbols[\"btc\"], btc_return)\n",
        "\n",
        "evaluate(ticker_symbols[\"eth\"], eth_return)\n",
        "\n",
        "evaluate(ticker_symbols[\"doge\"], doge_return)"
      ]
    }
  ],
  "metadata": {
    "colab": {
      "provenance": []
    },
    "kernelspec": {
      "display_name": "Python 3",
      "name": "python3"
    },
    "language_info": {
      "name": "python"
    }
  },
  "nbformat": 4,
  "nbformat_minor": 0
}